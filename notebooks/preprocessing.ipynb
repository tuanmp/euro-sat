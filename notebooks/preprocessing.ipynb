{
 "cells": [
  {
   "cell_type": "code",
   "execution_count": 58,
   "metadata": {},
   "outputs": [],
   "source": [
    "import transformers as tf\n",
    "import os\n",
    "import datasets as ds\n",
    "import evaluate\n",
    "import torch\n",
    "from torchvision.transforms import RandomResizedCrop, Compose, Normalize"
   ]
  },
  {
   "cell_type": "code",
   "execution_count": 85,
   "metadata": {},
   "outputs": [
    {
     "data": {
      "text/plain": [
       "'Herbaceous Vegetation'"
      ]
     },
     "execution_count": 85,
     "metadata": {},
     "output_type": "execute_result"
    }
   ],
   "source": [
    "name = \"blanchon/EuroSAT_RGB\"\n",
    "train_ds = ds.load_dataset(name, split=\"train\", cache_dir = os.environ['PSCRATCH'])\n",
    "val_ds = ds.load_dataset(name, split=\"validation\", cache_dir = os.environ['PSCRATCH'])\n",
    "test_ds = ds.load_dataset(name, split=\"test\", cache_dir = os.environ['PSCRATCH'])\n",
    "\n",
    "labels = train_ds.features[\"label\"].names\n",
    "label2id, id2label = dict(), dict()\n",
    "for i, label in enumerate(labels):\n",
    "    label2id[label] = i\n",
    "    id2label[i] = label\n",
    "\n",
    "id2label[2]"
   ]
  },
  {
   "cell_type": "code",
   "execution_count": 84,
   "metadata": {},
   "outputs": [],
   "source": [
    "checkpoint = \"google/vit-base-patch16-224-in21k\"\n",
    "image_processor = tf.AutoImageProcessor.from_pretrained(checkpoint, use_fast=True, cache_dir=os.environ['PSCRATCH'])\n",
    "\n",
    "image_processor\n",
    "\n",
    "if 'height' in image_processor.size:\n",
    "    size = (image_processor.size['height'], image_processor.size['width'])\n",
    "    crop_size=size\n",
    "    max_size=None\n",
    "else:\n",
    "    size = image_processor.size['shortest_edge']\n",
    "    crop_size=(size, size)\n",
    "    max_size=image_processor.size.get('longest_edge')\n"
   ]
  },
  {
   "cell_type": "code",
   "execution_count": 96,
   "metadata": {},
   "outputs": [],
   "source": [
    "model = tf.ViTModel.from_pretrained(checkpoint)\n",
    "\n",
    "inputs = image_processor( train_ds[0]['image'], return_tensors=\"pt\" )\n",
    "\n",
    "with torch.no_grad():\n",
    "    outputs = model(**inputs)\n",
    "\n",
    "last_hidden_states = outputs.last_hidden_state"
   ]
  },
  {
   "cell_type": "code",
   "execution_count": 98,
   "metadata": {},
   "outputs": [
    {
     "data": {
      "text/plain": [
       "torch.Size([1, 197, 768])"
      ]
     },
     "execution_count": 98,
     "metadata": {},
     "output_type": "execute_result"
    }
   ],
   "source": [
    "last_hidden_states.shape"
   ]
  },
  {
   "cell_type": "code",
   "execution_count": 45,
   "metadata": {},
   "outputs": [],
   "source": [
    "from torchvision.transforms import (\n",
    "    CenterCrop,\n",
    "    Compose,\n",
    "    Normalize,\n",
    "    RandomHorizontalFlip,\n",
    "    RandomResizedCrop,\n",
    "    Resize,\n",
    "    ToTensor,\n",
    ")\n",
    "\n",
    "normalize = Normalize(mean=image_processor.image_mean, std=image_processor.image_std)\n",
    "\n",
    "train_transforms = Compose([RandomResizedCrop(crop_size), RandomHorizontalFlip(), ToTensor(), normalize])\n",
    "val_transforms = Compose(\n",
    "        [\n",
    "            Resize(size),\n",
    "            CenterCrop(crop_size),\n",
    "            ToTensor(),\n",
    "            normalize,\n",
    "        ]\n",
    "    )\n",
    "\n",
    "def preprocess_train(example_batch):\n",
    "    example_batch[\"pixel_values\"] = [\n",
    "        train_transforms(image.convert(\"RGB\")) for image in example_batch[\"image\"]\n",
    "    ]\n",
    "    del example_batch[\"image\"]\n",
    "    return example_batch\n",
    "\n",
    "def preprocess_val(example_batch):\n",
    "    example_batch[\"pixel_values\"] = [val_transforms(image.convert(\"RGB\")) for image in example_batch[\"image\"]]\n",
    "    del example_batch[\"image\"]\n",
    "    return example_batch"
   ]
  },
  {
   "cell_type": "code",
   "execution_count": 67,
   "metadata": {},
   "outputs": [],
   "source": [
    "train_ds.set_transform(preprocess_train)\n",
    "val_ds.set_transform(preprocess_val)"
   ]
  },
  {
   "cell_type": "code",
   "execution_count": 75,
   "metadata": {},
   "outputs": [
    {
     "data": {
      "text/plain": [
       "torch.Size([3, 224, 224])"
      ]
     },
     "execution_count": 75,
     "metadata": {},
     "output_type": "execute_result"
    }
   ],
   "source": [
    "train_ds[0]['pixel_values'].shape"
   ]
  },
  {
   "cell_type": "code",
   "execution_count": 82,
   "metadata": {},
   "outputs": [
    {
     "data": {
      "text/plain": [
       "tensor([[[[-1.0014, -1.0014, -1.0014,  ..., -1.0023, -1.0023, -1.0023],\n",
       "          [-1.0014, -1.0014, -1.0014,  ..., -1.0023, -1.0023, -1.0023],\n",
       "          [-1.0014, -1.0014, -1.0014,  ..., -1.0023, -1.0023, -1.0023],\n",
       "          ...,\n",
       "          [-1.0018, -1.0018, -1.0018,  ..., -1.0018, -1.0018, -1.0018],\n",
       "          [-1.0018, -1.0018, -1.0018,  ..., -1.0018, -1.0018, -1.0018],\n",
       "          [-1.0018, -1.0018, -1.0018,  ..., -1.0018, -1.0018, -1.0018]],\n",
       "\n",
       "         [[-1.0024, -1.0024, -1.0024,  ..., -1.0028, -1.0028, -1.0028],\n",
       "          [-1.0024, -1.0024, -1.0024,  ..., -1.0028, -1.0028, -1.0028],\n",
       "          [-1.0024, -1.0024, -1.0024,  ..., -1.0028, -1.0028, -1.0028],\n",
       "          ...,\n",
       "          [-1.0024, -1.0024, -1.0024,  ..., -1.0025, -1.0025, -1.0025],\n",
       "          [-1.0024, -1.0024, -1.0024,  ..., -1.0025, -1.0025, -1.0025],\n",
       "          [-1.0024, -1.0024, -1.0024,  ..., -1.0025, -1.0025, -1.0025]],\n",
       "\n",
       "         [[-1.0021, -1.0021, -1.0021,  ..., -1.0023, -1.0023, -1.0023],\n",
       "          [-1.0021, -1.0021, -1.0021,  ..., -1.0023, -1.0023, -1.0023],\n",
       "          [-1.0021, -1.0021, -1.0021,  ..., -1.0023, -1.0023, -1.0023],\n",
       "          ...,\n",
       "          [-1.0020, -1.0020, -1.0020,  ..., -1.0020, -1.0020, -1.0020],\n",
       "          [-1.0020, -1.0020, -1.0020,  ..., -1.0020, -1.0020, -1.0020],\n",
       "          [-1.0020, -1.0020, -1.0020,  ..., -1.0020, -1.0020, -1.0020]]]])"
      ]
     },
     "execution_count": 82,
     "metadata": {},
     "output_type": "execute_result"
    }
   ],
   "source": [
    "image_processor(train_ds[0]['pixel_values'], return_tensors=\"pt\")['pixel_values']"
   ]
  },
  {
   "cell_type": "code",
   "execution_count": 83,
   "metadata": {},
   "outputs": [
    {
     "data": {
      "text/plain": [
       "tensor([[[ 0.0588,  0.0588,  0.0588,  ..., -0.3098, -0.3098, -0.3098],\n",
       "         [ 0.0588,  0.0588,  0.0588,  ..., -0.3098, -0.3098, -0.3098],\n",
       "         [ 0.0588,  0.0588,  0.0588,  ..., -0.3098, -0.3098, -0.3098],\n",
       "         ...,\n",
       "         [-0.2941, -0.2941, -0.2941,  ..., -0.3098, -0.3098, -0.3098],\n",
       "         [-0.2941, -0.2941, -0.2941,  ..., -0.3098, -0.3098, -0.3098],\n",
       "         [-0.2941, -0.2941, -0.2941,  ..., -0.3098, -0.3098, -0.3098]],\n",
       "\n",
       "        [[-0.1529, -0.1529, -0.1529,  ..., -0.3412, -0.3412, -0.3412],\n",
       "         [-0.1529, -0.1529, -0.1529,  ..., -0.3412, -0.3412, -0.3412],\n",
       "         [-0.1529, -0.1529, -0.1529,  ..., -0.3412, -0.3412, -0.3412],\n",
       "         ...,\n",
       "         [-0.3490, -0.3490, -0.3490,  ..., -0.3725, -0.3725, -0.3725],\n",
       "         [-0.3490, -0.3490, -0.3490,  ..., -0.3725, -0.3725, -0.3725],\n",
       "         [-0.3490, -0.3490, -0.3490,  ..., -0.3725, -0.3725, -0.3725]],\n",
       "\n",
       "        [[-0.1451, -0.1451, -0.1451,  ..., -0.3176, -0.3176, -0.3176],\n",
       "         [-0.1451, -0.1451, -0.1451,  ..., -0.3176, -0.3176, -0.3176],\n",
       "         [-0.1451, -0.1451, -0.1451,  ..., -0.3176, -0.3176, -0.3176],\n",
       "         ...,\n",
       "         [-0.2784, -0.2784, -0.2784,  ..., -0.2863, -0.2863, -0.2863],\n",
       "         [-0.2784, -0.2784, -0.2784,  ..., -0.2863, -0.2863, -0.2863],\n",
       "         [-0.2784, -0.2784, -0.2784,  ..., -0.2863, -0.2863, -0.2863]]])"
      ]
     },
     "execution_count": 83,
     "metadata": {},
     "output_type": "execute_result"
    }
   ],
   "source": [
    "train_ds[0]['pixel_values']"
   ]
  },
  {
   "cell_type": "code",
   "execution_count": 52,
   "metadata": {},
   "outputs": [
    {
     "data": {
      "application/vnd.jupyter.widget-view+json": {
       "model_id": "b0b9e9a0f66a4d879fe67b228c3937c9",
       "version_major": 2,
       "version_minor": 0
      },
      "text/plain": [
       "config.json:   0%|          | 0.00/502 [00:00<?, ?B/s]"
      ]
     },
     "metadata": {},
     "output_type": "display_data"
    },
    {
     "data": {
      "application/vnd.jupyter.widget-view+json": {
       "model_id": "05e014f1d84145089b9b47cd81b08a2a",
       "version_major": 2,
       "version_minor": 0
      },
      "text/plain": [
       "model.safetensors:   0%|          | 0.00/346M [00:00<?, ?B/s]"
      ]
     },
     "metadata": {},
     "output_type": "display_data"
    },
    {
     "name": "stderr",
     "output_type": "stream",
     "text": [
      "Some weights of ViTForImageClassification were not initialized from the model checkpoint at google/vit-base-patch16-224-in21k and are newly initialized: ['classifier.bias', 'classifier.weight']\n",
      "You should probably TRAIN this model on a down-stream task to be able to use it for predictions and inference.\n"
     ]
    }
   ],
   "source": [
    "from transformers import AutoModelForImageClassification, TrainingArguments, Trainer\n",
    "\n",
    "model = AutoModelForImageClassification.from_pretrained(\n",
    "    checkpoint, \n",
    "    label2id=label2id,\n",
    "    id2label=id2label,\n",
    "    ignore_mismatched_sizes = True, # provide this in case you're planning to fine-tune an already fine-tuned checkpoint\n",
    ")"
   ]
  },
  {
   "cell_type": "code",
   "execution_count": 55,
   "metadata": {},
   "outputs": [],
   "source": [
    "model_name = checkpoint.split(\"/\")[-1]\n",
    "\n",
    "batch_size = 32\n",
    "\n",
    "args = TrainingArguments(\n",
    "    f\"{model_name}-finetuned-eurosat\",\n",
    "    remove_unused_columns=False,\n",
    "    eval_strategy = \"epoch\",\n",
    "    save_strategy = \"epoch\",\n",
    "    learning_rate=5e-5,\n",
    "    per_device_train_batch_size=batch_size,\n",
    "    gradient_accumulation_steps=4,\n",
    "    per_device_eval_batch_size=batch_size,\n",
    "    num_train_epochs=3,\n",
    "    warmup_ratio=0.1,\n",
    "    logging_steps=10,\n",
    "    load_best_model_at_end=True,\n",
    "    metric_for_best_model=\"accuracy\",\n",
    "    push_to_hub=False,\n",
    ")"
   ]
  },
  {
   "cell_type": "code",
   "execution_count": 59,
   "metadata": {},
   "outputs": [
    {
     "data": {
      "application/vnd.jupyter.widget-view+json": {
       "model_id": "7ef5ac87f8c64b1783312efe7ef8c9b5",
       "version_major": 2,
       "version_minor": 0
      },
      "text/plain": [
       "Downloading builder script:   0%|          | 0.00/4.20k [00:00<?, ?B/s]"
      ]
     },
     "metadata": {},
     "output_type": "display_data"
    }
   ],
   "source": [
    "import numpy as np\n",
    "\n",
    "metric = evaluate.load(\"accuracy\")\n",
    "\n",
    "# the compute_metrics function takes a Named Tuple as input:\n",
    "# predictions, which are the logits of the model as Numpy arrays,\n",
    "# and label_ids, which are the ground-truth labels as Numpy arrays.\n",
    "def compute_metrics(eval_pred):\n",
    "    \"\"\"Computes accuracy on a batch of predictions\"\"\"\n",
    "    predictions = np.argmax(eval_pred.predictions, axis=1)\n",
    "    return metric.compute(predictions=predictions, references=eval_pred.label_ids)"
   ]
  },
  {
   "cell_type": "code",
   "execution_count": 69,
   "metadata": {},
   "outputs": [],
   "source": [
    "def collate_fn(examples):\n",
    "    pixel_values = torch.stack([example[\"pixel_values\"] for example in examples])\n",
    "    labels = torch.tensor([example[\"label\"] for example in examples])\n",
    "    return {\"pixel_values\": pixel_values, \"labels\": labels}"
   ]
  },
  {
   "cell_type": "code",
   "execution_count": 70,
   "metadata": {},
   "outputs": [],
   "source": [
    "trainer = Trainer(\n",
    "    model,\n",
    "    args,\n",
    "    train_dataset=train_ds,\n",
    "    eval_dataset=val_ds,\n",
    "    processing_class=image_processor,\n",
    "    compute_metrics=compute_metrics,\n",
    "    data_collator=collate_fn,\n",
    ")"
   ]
  },
  {
   "cell_type": "code",
   "execution_count": 71,
   "metadata": {},
   "outputs": [
    {
     "data": {
      "text/html": [
       "\n",
       "    <div>\n",
       "      \n",
       "      <progress value='378' max='378' style='width:300px; height:20px; vertical-align: middle;'></progress>\n",
       "      [378/378 17:08, Epoch 2/3]\n",
       "    </div>\n",
       "    <table border=\"1\" class=\"dataframe\">\n",
       "  <thead>\n",
       " <tr style=\"text-align: left;\">\n",
       "      <th>Epoch</th>\n",
       "      <th>Training Loss</th>\n",
       "      <th>Validation Loss</th>\n",
       "      <th>Accuracy</th>\n",
       "    </tr>\n",
       "  </thead>\n",
       "  <tbody>\n",
       "    <tr>\n",
       "      <td>1</td>\n",
       "      <td>0.460400</td>\n",
       "      <td>0.386840</td>\n",
       "      <td>0.965741</td>\n",
       "    </tr>\n",
       "    <tr>\n",
       "      <td>2</td>\n",
       "      <td>0.256500</td>\n",
       "      <td>0.208515</td>\n",
       "      <td>0.980741</td>\n",
       "    </tr>\n",
       "  </tbody>\n",
       "</table><p>"
      ],
      "text/plain": [
       "<IPython.core.display.HTML object>"
      ]
     },
     "metadata": {},
     "output_type": "display_data"
    }
   ],
   "source": [
    "train_results = trainer.train()"
   ]
  },
  {
   "cell_type": "code",
   "execution_count": 72,
   "metadata": {},
   "outputs": [
    {
     "name": "stdout",
     "output_type": "stream",
     "text": [
      "***** train metrics *****\n",
      "  epoch                    =       2.9783\n",
      "  total_flos               = 3484041929GF\n",
      "  train_loss               =       0.5828\n",
      "  train_runtime            =   0:17:13.29\n",
      "  train_samples_per_second =       47.034\n",
      "  train_steps_per_second   =        0.366\n"
     ]
    }
   ],
   "source": [
    "trainer.save_model()\n",
    "trainer.log_metrics(\"train\", train_results.metrics)\n",
    "trainer.save_metrics(\"train\", train_results.metrics)\n",
    "trainer.save_state()"
   ]
  },
  {
   "cell_type": "code",
   "execution_count": 73,
   "metadata": {},
   "outputs": [
    {
     "data": {
      "text/plain": [
       "TrainOutput(global_step=378, training_loss=0.5828112521499553, metrics={'train_runtime': 1033.2911, 'train_samples_per_second': 47.034, 'train_steps_per_second': 0.366, 'total_flos': 3.740961535884067e+18, 'train_loss': 0.5828112521499553, 'epoch': 2.978303747534517})"
      ]
     },
     "execution_count": 73,
     "metadata": {},
     "output_type": "execute_result"
    }
   ],
   "source": [
    "train_results"
   ]
  },
  {
   "cell_type": "code",
   "execution_count": 74,
   "metadata": {},
   "outputs": [
    {
     "data": {
      "text/html": [
       "\n",
       "    <div>\n",
       "      \n",
       "      <progress value='169' max='169' style='width:300px; height:20px; vertical-align: middle;'></progress>\n",
       "      [169/169 00:48]\n",
       "    </div>\n",
       "    "
      ],
      "text/plain": [
       "<IPython.core.display.HTML object>"
      ]
     },
     "metadata": {},
     "output_type": "display_data"
    },
    {
     "name": "stdout",
     "output_type": "stream",
     "text": [
      "***** eval metrics *****\n",
      "  epoch                   =     2.9783\n",
      "  eval_accuracy           =     0.9807\n",
      "  eval_loss               =     0.2085\n",
      "  eval_runtime            = 0:00:49.13\n",
      "  eval_samples_per_second =    109.904\n",
      "  eval_steps_per_second   =       3.44\n"
     ]
    }
   ],
   "source": [
    "metrics = trainer.evaluate()\n",
    "# some nice to haves:\n",
    "trainer.log_metrics(\"eval\", metrics)\n",
    "trainer.save_metrics(\"eval\", metrics)"
   ]
  },
  {
   "cell_type": "code",
   "execution_count": null,
   "metadata": {},
   "outputs": [],
   "source": []
  }
 ],
 "metadata": {
  "kernelspec": {
   "display_name": "Python 3",
   "language": "python",
   "name": "python3"
  },
  "language_info": {
   "codemirror_mode": {
    "name": "ipython",
    "version": 3
   },
   "file_extension": ".py",
   "mimetype": "text/x-python",
   "name": "python",
   "nbconvert_exporter": "python",
   "pygments_lexer": "ipython3",
   "version": "3.11.7"
  }
 },
 "nbformat": 4,
 "nbformat_minor": 2
}
